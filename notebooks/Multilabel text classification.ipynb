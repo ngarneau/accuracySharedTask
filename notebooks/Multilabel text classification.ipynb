{
 "cells": [
  {
   "cell_type": "code",
   "execution_count": 376,
   "id": "e0a7931b",
   "metadata": {},
   "outputs": [],
   "source": [
    "import os\n",
    "import pandas as pd\n",
    "import numpy as np\n",
    "\n",
    "from sklearn.feature_extraction.text import CountVectorizer, TfidfTransformer, TfidfVectorizer\n",
    "from sklearn.linear_model import LogisticRegression\n",
    "from sklearn.svm import LinearSVC\n",
    "from sklearn.tree import DecisionTreeClassifier\n",
    "from sklearn.multiclass import OneVsRestClassifier\n",
    "from sklearn.preprocessing import MultiLabelBinarizer\n",
    "from sklearn.pipeline import Pipeline\n",
    "from sklearn.model_selection import train_test_split, cross_val_score\n",
    "from sklearn.utils.class_weight import compute_class_weight\n",
    "\n",
    "from nltk.corpus import stopwords\n",
    "from nltk.tokenize import word_tokenize, RegexpTokenizer\n",
    "\n",
    "from sklearn.metrics import classification_report, confusion_matrix\n",
    "import itertools\n",
    "\n",
    "class Document:\n",
    "    def __init__(self, id, text):\n",
    "        self.text = text\n",
    "        self.id = id\n",
    "        self.sentence_delim = \" . \"\n",
    "        self.splitted_text = self.__split_text()\n",
    "\n",
    "    def __split_text(self):\n",
    "        return self.text.split(self.sentence_delim)\n",
    "\n",
    "    def get_sentence(self, id):\n",
    "        return self.splitted_text[id-1]\n"
   ]
  },
  {
   "cell_type": "code",
   "execution_count": 377,
   "id": "00c96ad7",
   "metadata": {},
   "outputs": [],
   "source": [
    "def load_documents():\n",
    "    texts_path = '../data/texts'\n",
    "    files = os.listdir(texts_path)\n",
    "    documents = list()\n",
    "    for filename in files:\n",
    "        text = open(os.path.join(texts_path, filename), 'r').read()\n",
    "        document = Document(filename, text)\n",
    "        documents.append(document)\n",
    "    return documents"
   ]
  },
  {
   "cell_type": "code",
   "execution_count": 522,
   "id": "5f3cf942",
   "metadata": {},
   "outputs": [],
   "source": [
    "documents = load_documents()\n",
    "annotations = pd.read_csv('../data/gsml.csv')\n",
    "dataset = list()\n",
    "\n",
    "X = list()\n",
    "y = list()\n",
    "\n",
    "for document in documents:\n",
    "    document_annotations = annotations[annotations['TEXT_ID'] == document.id]\n",
    "    for line_id in range(1, len(document.splitted_text)+1):\n",
    "        sentence = document.get_sentence(line_id)\n",
    "        sentence_annotations = document_annotations[document_annotations['SENTENCE_ID'] == line_id]\n",
    "        if len(sentence_annotations):\n",
    "            classes = set(sentence_annotations['TYPE'].tolist())\n",
    "            classes = classes - {'OTHER'}\n",
    "#             classes = classes - {'CONTEXT', 'NOT_CHECKABLE', 'OTHER'}\n",
    "            if len(classes):\n",
    "                classes = list(classes)\n",
    "                X.append(sentence)\n",
    "                y.append(classes)\n",
    "#         else:\n",
    "#             classes = ['NONE']\n",
    "#             X.append(sentence)\n",
    "#             y.append(classes)"
   ]
  },
  {
   "cell_type": "code",
   "execution_count": 523,
   "id": "d955347c",
   "metadata": {},
   "outputs": [],
   "source": [
    "classes = sorted(list(set([c for cs in y for c in cs])))"
   ]
  },
  {
   "cell_type": "code",
   "execution_count": 524,
   "id": "2e92705a",
   "metadata": {},
   "outputs": [
    {
     "data": {
      "text/plain": [
       "['CONTEXT', 'NAME', 'NOT_CHECKABLE', 'NUMBER', 'WORD']"
      ]
     },
     "execution_count": 524,
     "metadata": {},
     "output_type": "execute_result"
    }
   ],
   "source": [
    "classes"
   ]
  },
  {
   "cell_type": "code",
   "execution_count": 525,
   "id": "0a5275b6",
   "metadata": {},
   "outputs": [],
   "source": [
    "mlb = MultiLabelBinarizer()\n",
    "y = mlb.fit_transform(y)"
   ]
  },
  {
   "cell_type": "code",
   "execution_count": 526,
   "id": "1aaaf31f",
   "metadata": {},
   "outputs": [],
   "source": [
    "tokenizer = RegexpTokenizer(r'\\w+')\n",
    "text_clf = Pipeline([\n",
    "        ('tfidf', TfidfVectorizer(\n",
    "            tokenizer=lambda x: tokenizer.tokenize(x),\n",
    "            lowercase=True,\n",
    "#             ngram_range=(1, 3),\n",
    "            stop_words=stopwords.words('english')\n",
    "        )),\n",
    "        ('clf', OneVsRestClassifier(LogisticRegression(C=0.5, class_weight='balanced'))),\n",
    "    ])"
   ]
  },
  {
   "cell_type": "code",
   "execution_count": 527,
   "id": "2b37fba0",
   "metadata": {},
   "outputs": [
    {
     "data": {
      "text/plain": [
       "array([0.27586207, 0.31034483, 0.32758621, 0.27586207, 0.25862069,\n",
       "       0.31034483, 0.27586207, 0.27586207, 0.40350877, 0.1754386 ])"
      ]
     },
     "execution_count": 527,
     "metadata": {},
     "output_type": "execute_result"
    }
   ],
   "source": [
    "cross_val_score(text_clf, X, y, cv=10)"
   ]
  },
  {
   "cell_type": "code",
   "execution_count": 528,
   "id": "6f42fc38",
   "metadata": {},
   "outputs": [],
   "source": [
    "X_train, X_test, y_train, y_test = train_test_split(X, y, test_size=0.33, random_state=42)"
   ]
  },
  {
   "cell_type": "code",
   "execution_count": 529,
   "id": "c1643446",
   "metadata": {},
   "outputs": [
    {
     "data": {
      "text/plain": [
       "Pipeline(steps=[('tfidf',\n",
       "                 TfidfVectorizer(stop_words=['i', 'me', 'my', 'myself', 'we',\n",
       "                                             'our', 'ours', 'ourselves', 'you',\n",
       "                                             \"you're\", \"you've\", \"you'll\",\n",
       "                                             \"you'd\", 'your', 'yours',\n",
       "                                             'yourself', 'yourselves', 'he',\n",
       "                                             'him', 'his', 'himself', 'she',\n",
       "                                             \"she's\", 'her', 'hers', 'herself',\n",
       "                                             'it', \"it's\", 'its', 'itself', ...],\n",
       "                                 tokenizer=<function <lambda> at 0x7fb3729a2d30>)),\n",
       "                ('clf',\n",
       "                 OneVsRestClassifier(estimator=LogisticRegression(C=0.5,\n",
       "                                                                  class_weight='balanced')))])"
      ]
     },
     "execution_count": 529,
     "metadata": {},
     "output_type": "execute_result"
    }
   ],
   "source": [
    "text_clf.fit(X_train, y_train)"
   ]
  },
  {
   "cell_type": "code",
   "execution_count": 530,
   "id": "93448967",
   "metadata": {},
   "outputs": [
    {
     "data": {
      "text/plain": [
       "array([[1, 0, 0, 0, 0],\n",
       "       [0, 0, 0, 1, 1],\n",
       "       [0, 0, 0, 1, 1],\n",
       "       ...,\n",
       "       [0, 0, 0, 1, 0],\n",
       "       [0, 1, 0, 0, 1],\n",
       "       [0, 0, 0, 0, 1]])"
      ]
     },
     "execution_count": 530,
     "metadata": {},
     "output_type": "execute_result"
    }
   ],
   "source": [
    "y_train"
   ]
  },
  {
   "cell_type": "code",
   "execution_count": 555,
   "id": "5ea2df7b",
   "metadata": {},
   "outputs": [],
   "source": [
    "def evaluate_baseline(model, X_test, y_test):\n",
    "#     logging.info(\"Predicting on test...\")\n",
    "    predicted = model.predict(X_test)\n",
    "    acc = np.mean(predicted == y_test)\n",
    "#     logging.info(\"Accuracy on test: {}\".format(acc))\n",
    "    print(classification_report(y_test, predicted, target_names=classes))\n",
    "#     plot_confusion_matrix(confusion_matrix(y_test, predicted), sorted(set(y_test)))\n",
    "\n",
    "\n",
    "    # Analyzing results here\n",
    "    clf = model.steps[1][1]\n",
    "    tf_idf_vectorizer = model.steps[0][1]\n",
    "    feature_names = tf_idf_vectorizer.get_feature_names()\n",
    "    for cls, coefs in zip(clf.classes_, clf.coef_):\n",
    "        print(\"=\"*20)\n",
    "        print(classes[cls])\n",
    "        weighted_coefs = tf_idf_vectorizer.idf_ * coefs\n",
    "        sorted_coefs = weighted_coefs.argsort()\n",
    "#         sorted_coefs = coefs.argsort()\n",
    "\n",
    "        topk_good_words = sorted_coefs[-10:][::-1]\n",
    "        good_words = {feature_names[i] for i in topk_good_words}\n",
    "        print(\"Top good words: {}\".format(good_words))\n",
    "\n",
    "        topk_bad_words = sorted_coefs[:10][::-1]\n",
    "        bad_words = {feature_names[i] for i in topk_bad_words}\n",
    "        print(\"Top bad words: {}\".format(bad_words))\n",
    "        print(\"=\" * 20)"
   ]
  },
  {
   "cell_type": "code",
   "execution_count": 556,
   "id": "d89477fe",
   "metadata": {},
   "outputs": [
    {
     "name": "stdout",
     "output_type": "stream",
     "text": [
      "               precision    recall  f1-score   support\n",
      "\n",
      "      CONTEXT       0.17      0.55      0.26        11\n",
      "         NAME       0.82      0.74      0.78        69\n",
      "NOT_CHECKABLE       0.50      0.60      0.55        10\n",
      "       NUMBER       0.69      0.85      0.76        95\n",
      "         WORD       0.61      0.65      0.63        99\n",
      "\n",
      "    micro avg       0.63      0.73      0.68       284\n",
      "    macro avg       0.56      0.68      0.60       284\n",
      " weighted avg       0.67      0.73      0.69       284\n",
      "  samples avg       0.65      0.75      0.66       284\n",
      "\n",
      "====================\n",
      "CONTEXT\n",
      "Top good words: {'lopez', 'johnson', 'chipped', 'followed', '10', 'minutes', '2', 'unit', 'brook', 'simply'}\n",
      "Top bad words: {'games', 'supplemented', 'friday', '11', 'last', 'percent', 'team', 'home', 'high', 'averaging'}\n",
      "====================\n",
      "====================\n",
      "NAME\n",
      "Top good words: {'host', 'kings', 'look', 'rockets', 'wednesday', 'friday', 'monday', 'center', 'home', 'defeated'}\n",
      "Top bad words: {'games', 'points', 'half', 'last', 'three', 'second', 'two', 'double', 'four', 'averaging'}\n",
      "====================\n",
      "====================\n",
      "NOT_CHECKABLE\n",
      "Top good words: {'conference', 'averaging', 'continue', 'place', 'digit', 'last', '000s', 'season', 'division', 'year'}\n",
      "Top bad words: {'steal', 'combined', 'led', 'one', 'row', 'three', 'percent', '2', 'home', 'assists'}\n",
      "====================\n",
      "====================\n",
      "NUMBER\n",
      "Top good words: {'games', 'combined', '34', 'players', 'row', 'half', 'last', '24', 'second', 'pair'}\n",
      "Top bad words: {'totaled', 'host', 'saturday', 'look', 'play', 'friday', 'monday', 'magic', 'home', 'defeated'}\n",
      "====================\n",
      "====================\n",
      "WORD\n",
      "Top good words: {'player', 'look', 'travel', 'bench', 'starter', 'figures', 'half', 'raptors', 'double', '12'}\n",
      "Top bad words: {'conference', 'games', 'combined', 'continue', '13', 'last', 'houston', 'defeated', 'clippers', 'averaging'}\n",
      "====================\n"
     ]
    },
    {
     "name": "stderr",
     "output_type": "stream",
     "text": [
      "/home/ngarneau/workspace/phd/accuracySharedTask/venv/lib/python3.8/site-packages/sklearn/metrics/_classification.py:1248: UndefinedMetricWarning: Precision and F-score are ill-defined and being set to 0.0 in samples with no predicted labels. Use `zero_division` parameter to control this behavior.\n",
      "  _warn_prf(average, modifier, msg_start, len(result))\n",
      "/home/ngarneau/workspace/phd/accuracySharedTask/venv/lib/python3.8/site-packages/sklearn/utils/deprecation.py:101: FutureWarning: Attribute coef_ was deprecated in version 0.24 and will be removed in 1.1 (renaming of 0.26). If you observe this warning while using RFE or SelectFromModel, use the importance_getter parameter instead.\n",
      "  warnings.warn(msg, category=FutureWarning)\n"
     ]
    }
   ],
   "source": [
    "evaluate_baseline(text_clf, X_test, y_test)"
   ]
  },
  {
   "cell_type": "code",
   "execution_count": 533,
   "id": "1077cd47",
   "metadata": {},
   "outputs": [
    {
     "data": {
      "text/plain": [
       "array([[1, 0, 0, 1, 0],\n",
       "       [1, 0, 0, 1, 1],\n",
       "       [0, 0, 0, 1, 1],\n",
       "       ...,\n",
       "       [0, 0, 0, 1, 0],\n",
       "       [0, 1, 0, 0, 1],\n",
       "       [0, 0, 0, 0, 1]])"
      ]
     },
     "execution_count": 533,
     "metadata": {},
     "output_type": "execute_result"
    }
   ],
   "source": [
    "text_clf.predict(X_train)"
   ]
  },
  {
   "cell_type": "code",
   "execution_count": 456,
   "id": "ec0891cc",
   "metadata": {},
   "outputs": [
    {
     "data": {
      "text/plain": [
       "array([[1, 0, 0],\n",
       "       [0, 0, 1],\n",
       "       [0, 0, 1],\n",
       "       [0, 0, 1],\n",
       "       [0, 0, 1],\n",
       "       [0, 0, 1],\n",
       "       [0, 0, 1],\n",
       "       [0, 0, 1],\n",
       "       [0, 0, 1],\n",
       "       [0, 1, 0],\n",
       "       [0, 0, 1],\n",
       "       [1, 0, 0],\n",
       "       [1, 0, 1],\n",
       "       [0, 0, 1],\n",
       "       [0, 0, 1],\n",
       "       [1, 0, 0],\n",
       "       [0, 0, 1],\n",
       "       [1, 0, 0],\n",
       "       [0, 1, 0],\n",
       "       [1, 0, 0],\n",
       "       [0, 0, 1],\n",
       "       [0, 0, 1],\n",
       "       [0, 0, 1],\n",
       "       [0, 0, 1],\n",
       "       [0, 0, 1],\n",
       "       [0, 0, 1],\n",
       "       [0, 1, 0],\n",
       "       [0, 0, 1],\n",
       "       [0, 0, 1],\n",
       "       [0, 0, 1],\n",
       "       [0, 0, 1],\n",
       "       [1, 0, 0],\n",
       "       [0, 0, 1],\n",
       "       [0, 0, 1],\n",
       "       [0, 1, 0],\n",
       "       [0, 0, 1],\n",
       "       [0, 0, 1],\n",
       "       [0, 0, 1],\n",
       "       [0, 0, 1],\n",
       "       [0, 0, 1],\n",
       "       [0, 0, 1],\n",
       "       [0, 0, 1],\n",
       "       [0, 0, 1],\n",
       "       [0, 0, 1],\n",
       "       [0, 0, 1],\n",
       "       [0, 1, 0],\n",
       "       [1, 0, 0],\n",
       "       [0, 0, 1],\n",
       "       [0, 0, 1],\n",
       "       [0, 0, 1],\n",
       "       [1, 0, 1],\n",
       "       [0, 0, 1],\n",
       "       [0, 1, 1],\n",
       "       [0, 0, 1],\n",
       "       [0, 0, 1],\n",
       "       [0, 0, 1],\n",
       "       [1, 0, 0],\n",
       "       [0, 0, 1],\n",
       "       [1, 0, 0],\n",
       "       [0, 0, 1],\n",
       "       [0, 0, 1],\n",
       "       [0, 0, 1],\n",
       "       [0, 0, 1],\n",
       "       [0, 1, 0],\n",
       "       [0, 0, 1],\n",
       "       [1, 0, 1],\n",
       "       [0, 0, 1],\n",
       "       [0, 0, 1],\n",
       "       [0, 0, 1],\n",
       "       [0, 0, 1],\n",
       "       [0, 0, 1],\n",
       "       [0, 0, 1],\n",
       "       [0, 0, 1],\n",
       "       [0, 0, 1],\n",
       "       [0, 0, 1],\n",
       "       [0, 0, 1],\n",
       "       [0, 0, 1],\n",
       "       [0, 1, 0],\n",
       "       [1, 0, 0],\n",
       "       [1, 0, 0],\n",
       "       [1, 0, 1],\n",
       "       [0, 0, 1],\n",
       "       [0, 0, 1],\n",
       "       [0, 0, 1],\n",
       "       [0, 1, 0],\n",
       "       [0, 0, 1],\n",
       "       [0, 0, 1],\n",
       "       [0, 0, 1],\n",
       "       [0, 1, 0],\n",
       "       [0, 1, 1],\n",
       "       [0, 1, 0],\n",
       "       [0, 0, 1],\n",
       "       [0, 0, 1],\n",
       "       [0, 0, 1],\n",
       "       [0, 0, 1],\n",
       "       [0, 0, 1],\n",
       "       [0, 0, 1],\n",
       "       [0, 0, 1],\n",
       "       [0, 0, 1],\n",
       "       [0, 0, 1],\n",
       "       [0, 0, 1],\n",
       "       [0, 0, 1],\n",
       "       [0, 0, 1],\n",
       "       [1, 0, 0],\n",
       "       [0, 0, 1],\n",
       "       [0, 0, 1],\n",
       "       [0, 0, 1],\n",
       "       [0, 0, 1],\n",
       "       [0, 0, 1],\n",
       "       [0, 0, 1],\n",
       "       [0, 0, 1]])"
      ]
     },
     "execution_count": 456,
     "metadata": {},
     "output_type": "execute_result"
    }
   ],
   "source": [
    "y_test"
   ]
  },
  {
   "cell_type": "code",
   "execution_count": 540,
   "id": "9ee64c58",
   "metadata": {},
   "outputs": [
    {
     "data": {
      "text/plain": [
       "array([4.127792  , 5.57471098, 3.62880083, 3.06918504, 5.86239305,\n",
       "       6.26785816, 6.26785816, 6.26785816, 5.57471098, 5.57471098,\n",
       "       6.26785816, 5.57471098, 5.86239305, 5.86239305, 3.32341918,\n",
       "       6.26785816, 5.57471098, 6.26785816, 5.86239305, 5.57471098,\n",
       "       5.86239305, 3.43464482, 6.26785816, 5.86239305, 5.86239305,\n",
       "       5.57471098, 6.26785816, 3.40565728, 6.26785816, 3.55980796,\n",
       "       6.26785816, 6.26785816, 3.96527307, 3.74212951, 3.62880083,\n",
       "       3.9164829 , 4.01656636, 3.52701814, 4.32194801, 4.32194801,\n",
       "       4.07063358, 4.07063358, 4.32194801, 5.01509519, 5.57471098,\n",
       "       4.56311007, 4.76378076, 4.07063358, 3.96527307, 4.65842025,\n",
       "       4.32194801, 4.56311007, 5.16924587, 4.56311007, 4.76378076,\n",
       "       5.35156743, 5.16924587, 4.47609869, 4.65842025, 3.43464482,\n",
       "       3.62880083, 4.8815638 , 5.35156743, 4.56311007, 5.16924587,\n",
       "       5.57471098, 4.8815638 , 5.57471098, 5.57471098, 5.57471098,\n",
       "       3.9164829 , 5.35156743, 6.26785816, 5.86239305, 6.26785816,\n",
       "       5.86239305, 6.26785816, 5.86239305, 3.86996289, 6.26785816,\n",
       "       6.26785816, 6.26785816, 3.7029088 , 6.26785816, 5.16924587,\n",
       "       5.57471098, 3.82551112, 6.26785816, 5.86239305, 4.01656636,\n",
       "       6.26785816, 6.26785816, 6.26785816, 5.57471098, 6.26785816,\n",
       "       5.57471098, 5.86239305, 5.57471098, 3.82551112, 4.76378076,\n",
       "       5.86239305, 6.26785816, 4.8815638 , 4.76378076, 6.26785816,\n",
       "       6.26785816, 5.16924587, 5.57471098, 5.35156743, 6.26785816,\n",
       "       6.26785816, 5.35156743, 4.25295514, 3.7029088 , 5.57471098,\n",
       "       5.16924587, 5.86239305, 5.35156743, 5.57471098, 6.26785816,\n",
       "       4.47609869, 5.57471098, 6.26785816, 5.35156743, 5.57471098,\n",
       "       5.01509519, 4.47609869, 6.26785816, 5.86239305, 6.26785816,\n",
       "       3.7029088 , 2.23361752, 6.26785816, 4.8815638 , 5.86239305,\n",
       "       6.26785816, 5.86239305, 4.76378076, 5.86239305, 5.86239305,\n",
       "       4.39605598, 3.96527307, 6.26785816, 6.26785816, 6.26785816,\n",
       "       5.86239305, 5.86239305, 6.26785816, 4.8815638 , 5.35156743,\n",
       "       5.86239305, 5.35156743, 5.35156743, 6.26785816, 6.26785816,\n",
       "       4.76378076, 5.86239305, 3.40565728, 5.57471098, 5.86239305,\n",
       "       5.35156743, 6.26785816, 4.25295514, 5.57471098, 3.74212951,\n",
       "       5.86239305, 4.18841662, 6.26785816, 4.8815638 , 6.26785816,\n",
       "       6.26785816, 5.86239305, 5.35156743, 5.35156743, 4.8815638 ,\n",
       "       6.26785816, 6.26785816, 5.86239305, 5.35156743, 5.16924587,\n",
       "       5.16924587, 5.86239305, 6.26785816, 6.26785816, 4.8815638 ,\n",
       "       5.16924587, 6.26785816, 6.26785816, 4.47609869, 6.26785816,\n",
       "       6.26785816, 5.86239305, 6.26785816, 6.26785816, 5.01509519,\n",
       "       6.26785816, 4.25295514, 4.07063358, 6.26785816, 6.26785816,\n",
       "       6.26785816, 4.8815638 , 5.16924587, 5.86239305, 4.25295514,\n",
       "       5.16924587, 5.35156743, 5.86239305, 5.16924587, 6.26785816,\n",
       "       4.39605598, 5.57471098, 5.57471098, 5.86239305, 5.57471098,\n",
       "       4.39605598, 6.26785816, 6.26785816, 5.86239305, 5.86239305,\n",
       "       6.26785816, 5.16924587, 4.76378076, 4.32194801, 6.26785816,\n",
       "       6.26785816, 6.26785816, 6.26785816, 5.86239305, 6.26785816,\n",
       "       6.26785816, 6.26785816, 6.26785816, 5.86239305, 5.35156743,\n",
       "       6.26785816, 5.86239305, 5.86239305, 5.01509519, 6.26785816,\n",
       "       5.57471098, 6.26785816, 5.86239305, 6.26785816, 6.26785816,\n",
       "       5.16924587, 5.57471098, 6.26785816, 3.49526944, 6.26785816,\n",
       "       6.26785816, 5.57471098, 6.26785816, 6.26785816, 5.86239305,\n",
       "       5.86239305, 5.86239305, 5.57471098, 6.26785816, 6.26785816,\n",
       "       5.16924587, 5.86239305, 5.86239305, 5.86239305, 6.26785816,\n",
       "       6.26785816, 5.86239305, 6.26785816, 5.16924587, 6.26785816,\n",
       "       5.86239305, 6.26785816, 2.97202129, 5.86239305, 5.57471098,\n",
       "       6.26785816, 5.86239305, 5.35156743, 5.86239305, 5.86239305,\n",
       "       5.86239305, 6.26785816, 6.26785816, 5.57471098, 6.26785816,\n",
       "       5.86239305, 3.96527307, 6.26785816, 5.86239305, 6.26785816,\n",
       "       6.26785816, 6.26785816, 5.35156743, 5.16924587, 5.16924587,\n",
       "       5.35156743, 5.86239305, 5.57471098, 5.01509519, 6.26785816,\n",
       "       6.26785816, 5.16924587, 4.8815638 , 5.57471098, 6.26785816,\n",
       "       6.26785816, 6.26785816, 5.86239305, 6.26785816, 6.26785816,\n",
       "       6.26785816, 6.26785816, 3.43464482, 3.74212951, 3.9164829 ,\n",
       "       5.16924587, 5.86239305, 3.9164829 , 5.86239305, 4.39605598,\n",
       "       2.85013148, 4.65842025, 4.47609869, 5.57471098, 6.26785816,\n",
       "       5.86239305, 3.00976162, 5.86239305, 5.16924587, 6.26785816,\n",
       "       6.26785816, 6.26785816, 3.40565728, 5.35156743, 3.49526944,\n",
       "       6.26785816, 2.93565365, 3.55980796, 5.35156743, 6.26785816,\n",
       "       5.86239305, 5.86239305, 6.26785816, 5.01509519, 6.26785816,\n",
       "       5.57471098, 6.26785816, 4.8815638 , 5.57471098, 4.65842025,\n",
       "       4.76378076, 6.26785816, 6.26785816, 5.16924587, 5.01509519,\n",
       "       6.26785816, 5.86239305, 6.26785816, 5.86239305, 6.26785816,\n",
       "       5.57471098, 6.26785816, 3.9164829 , 5.86239305, 5.86239305,\n",
       "       5.57471098, 5.86239305, 6.26785816, 5.86239305, 6.26785816,\n",
       "       3.96527307, 5.57471098, 4.65842025, 4.8815638 , 5.35156743,\n",
       "       5.16924587, 3.78295151, 5.86239305, 6.26785816, 6.26785816,\n",
       "       3.62880083, 6.26785816, 5.57471098, 4.56311007, 4.56311007,\n",
       "       5.57471098, 6.26785816, 4.8815638 , 5.86239305, 4.56311007,\n",
       "       5.16924587, 6.26785816, 5.86239305, 4.56311007, 4.8815638 ,\n",
       "       5.16924587, 5.86239305, 6.26785816, 6.26785816, 5.35156743,\n",
       "       6.26785816, 6.26785816, 4.39605598, 5.86239305, 6.26785816,\n",
       "       6.26785816, 5.86239305, 5.35156743, 5.01509519, 6.26785816,\n",
       "       6.26785816, 5.86239305, 5.57471098, 6.26785816, 6.26785816,\n",
       "       6.26785816, 5.86239305, 6.26785816, 5.57471098, 6.26785816,\n",
       "       5.86239305, 6.26785816, 5.86239305, 6.26785816, 5.35156743,\n",
       "       6.26785816, 4.8815638 , 6.26785816, 5.57471098, 5.35156743,\n",
       "       6.26785816, 5.57471098, 5.57471098, 6.26785816, 5.86239305,\n",
       "       4.32194801, 6.26785816, 6.26785816, 5.35156743, 6.26785816,\n",
       "       5.57471098, 6.26785816, 5.86239305, 6.26785816, 4.32194801,\n",
       "       5.86239305, 5.86239305, 6.26785816, 3.66516847, 6.26785816,\n",
       "       6.26785816, 5.86239305, 6.26785816, 5.16924587, 5.57471098,\n",
       "       6.26785816, 2.74149763, 5.86239305, 6.26785816, 6.26785816,\n",
       "       6.26785816, 6.26785816, 6.26785816, 5.86239305, 5.86239305,\n",
       "       4.01656636, 5.86239305, 6.26785816, 4.8815638 , 4.127792  ,\n",
       "       6.26785816, 5.57471098, 4.47609869, 6.26785816, 5.57471098,\n",
       "       5.16924587, 6.26785816, 5.86239305, 5.86239305, 6.26785816,\n",
       "       4.18841662, 5.86239305, 6.26785816, 5.57471098, 6.26785816,\n",
       "       6.26785816, 5.16924587, 6.26785816, 6.26785816, 6.26785816,\n",
       "       6.26785816, 4.65842025, 5.86239305, 4.07063358, 6.26785816,\n",
       "       6.26785816, 5.86239305, 5.86239305, 6.26785816, 5.57471098,\n",
       "       6.26785816, 5.16924587, 6.26785816, 6.26785816, 6.26785816,\n",
       "       5.57471098, 6.26785816, 5.57471098, 5.35156743, 5.35156743,\n",
       "       6.26785816, 3.43464482, 6.26785816, 5.57471098, 6.26785816,\n",
       "       6.26785816, 4.32194801, 6.26785816, 5.86239305, 5.86239305,\n",
       "       6.26785816, 4.65842025, 5.86239305, 6.26785816, 6.26785816,\n",
       "       6.26785816, 5.86239305, 5.86239305, 4.56311007, 6.26785816,\n",
       "       4.8815638 , 3.52701814, 5.35156743, 6.26785816, 4.65842025,\n",
       "       5.57471098, 4.18841662, 6.26785816, 5.86239305, 6.26785816,\n",
       "       6.26785816, 5.57471098, 6.26785816, 5.35156743, 6.26785816,\n",
       "       5.86239305, 5.16924587, 5.57471098, 6.26785816, 3.17681571,\n",
       "       6.26785816, 6.26785816, 5.86239305, 6.26785816, 4.65842025,\n",
       "       5.86239305, 6.26785816, 5.35156743, 5.16924587, 6.26785816,\n",
       "       6.26785816, 5.35156743, 4.56311007, 6.26785816, 4.65842025,\n",
       "       6.26785816, 6.26785816, 6.26785816, 6.26785816, 5.16924587,\n",
       "       5.86239305, 5.01509519, 6.26785816, 4.07063358, 5.86239305,\n",
       "       5.35156743, 6.26785816, 6.26785816, 5.35156743, 6.26785816,\n",
       "       5.86239305, 4.56311007, 6.26785816, 5.16924587, 4.07063358,\n",
       "       5.86239305, 4.39605598, 5.35156743, 6.26785816, 6.26785816,\n",
       "       6.26785816, 3.15434285, 1.65770043, 6.26785816, 5.86239305,\n",
       "       4.8815638 , 5.01509519, 5.57471098, 6.26785816, 5.86239305,\n",
       "       6.26785816, 6.26785816, 6.26785816, 6.26785816, 6.26785816,\n",
       "       5.86239305, 4.56311007, 6.26785816, 4.127792  , 6.26785816,\n",
       "       5.35156743, 5.86239305, 6.26785816, 5.86239305, 5.35156743,\n",
       "       4.39605598, 3.74212951, 5.57471098, 6.26785816, 6.26785816,\n",
       "       4.8815638 , 6.26785816, 4.18841662, 5.01509519, 1.89210114,\n",
       "       6.26785816, 6.26785816, 5.35156743, 5.86239305, 6.26785816,\n",
       "       5.35156743, 6.26785816, 6.26785816, 5.86239305, 4.65842025,\n",
       "       6.26785816, 6.26785816, 6.26785816, 6.26785816, 6.26785816,\n",
       "       6.26785816, 6.26785816, 5.86239305, 5.86239305, 5.86239305,\n",
       "       4.8815638 , 5.86239305, 4.47609869, 6.26785816, 6.26785816,\n",
       "       4.127792  , 6.26785816, 6.26785816, 6.26785816, 6.26785816,\n",
       "       4.32194801, 5.16924587, 6.26785816, 4.8815638 , 5.86239305,\n",
       "       5.86239305, 5.01509519, 5.57471098, 4.65842025, 4.47609869,\n",
       "       5.16924587, 4.07063358, 6.26785816, 5.86239305, 4.39605598,\n",
       "       3.02917971, 6.26785816, 6.26785816, 5.35156743, 6.26785816,\n",
       "       5.86239305, 6.26785816, 3.9164829 , 6.26785816, 5.01509519,\n",
       "       3.86996289, 4.8815638 , 5.86239305, 5.86239305, 5.16924587,\n",
       "       6.26785816, 5.86239305, 6.26785816, 3.46449778, 5.86239305,\n",
       "       5.86239305, 6.26785816, 6.26785816, 6.26785816, 5.86239305,\n",
       "       5.86239305, 6.26785816, 5.16924587, 6.26785816, 6.26785816,\n",
       "       6.26785816, 5.57471098, 6.26785816, 6.26785816, 4.39605598,\n",
       "       6.26785816, 5.86239305, 6.26785816, 4.8815638 , 4.76378076,\n",
       "       6.26785816, 6.26785816, 5.01509519, 6.26785816, 3.15434285,\n",
       "       3.19980522, 6.26785816, 6.26785816, 5.86239305, 6.26785816,\n",
       "       5.57471098, 4.47609869, 5.57471098, 5.86239305, 5.86239305,\n",
       "       6.26785816, 5.35156743, 5.16924587, 5.01509519, 5.01509519,\n",
       "       4.56311007, 5.57471098, 6.26785816, 6.26785816, 6.26785816,\n",
       "       5.57471098, 4.8815638 , 6.26785816, 4.76378076, 6.26785816,\n",
       "       5.86239305, 5.57471098, 3.86996289, 5.57471098, 6.26785816,\n",
       "       6.26785816, 4.76378076, 5.86239305, 5.86239305, 2.72689884,\n",
       "       6.26785816, 6.26785816, 4.56311007, 5.57471098, 6.26785816,\n",
       "       6.26785816, 6.26785816, 5.16924587, 5.86239305, 6.26785816,\n",
       "       6.26785816, 6.26785816, 6.26785816, 5.86239305, 4.39605598,\n",
       "       5.86239305, 5.35156743, 5.16924587, 5.86239305, 6.26785816,\n",
       "       5.16924587, 4.32194801, 6.26785816, 5.01509519, 6.26785816,\n",
       "       6.26785816, 6.26785816, 6.26785816, 6.26785816, 5.16924587,\n",
       "       6.26785816, 6.26785816, 6.26785816, 6.26785816, 5.01509519,\n",
       "       2.6705459 , 6.26785816, 5.86239305, 4.65842025, 6.26785816,\n",
       "       6.26785816, 6.26785816, 6.26785816, 5.57471098, 4.65842025,\n",
       "       6.26785816, 6.26785816, 5.57471098, 5.86239305, 5.57471098,\n",
       "       5.86239305, 4.65842025, 5.35156743, 4.32194801, 6.26785816,\n",
       "       3.82551112, 4.56311007, 6.26785816, 4.39605598, 5.86239305,\n",
       "       5.86239305, 5.35156743, 5.86239305, 5.86239305, 6.26785816,\n",
       "       5.57471098, 4.18841662, 5.86239305, 5.57471098, 5.57471098,\n",
       "       5.57471098, 6.26785816, 4.76378076, 5.16924587, 5.57471098,\n",
       "       5.35156743, 6.26785816])"
      ]
     },
     "execution_count": 540,
     "metadata": {},
     "output_type": "execute_result"
    }
   ],
   "source": [
    "text_clf.steps[0][1].idf_"
   ]
  },
  {
   "cell_type": "code",
   "execution_count": 541,
   "id": "b556be3c",
   "metadata": {},
   "outputs": [
    {
     "data": {
      "text/plain": [
       "array([[ 0.90683954, -0.06557132,  0.06806231, ..., -0.06548445,\n",
       "         0.15646182,  0.24146739],\n",
       "       [-0.29855802,  0.03809915, -0.3960506 , ...,  0.20346196,\n",
       "        -0.16129374, -0.03164938],\n",
       "       [-0.24179801,  1.00901827, -0.38692467, ..., -0.07314323,\n",
       "        -0.08111813, -0.02167191],\n",
       "       [-0.35060858, -0.18657543,  0.05381775, ...,  0.06789263,\n",
       "        -0.15446902, -0.06211635],\n",
       "       [ 0.12793554, -0.09466666,  0.4922605 , ..., -0.09109563,\n",
       "         0.26933729,  0.06484329]])"
      ]
     },
     "execution_count": 541,
     "metadata": {},
     "output_type": "execute_result"
    }
   ],
   "source": [
    "text_clf.steps[1][1].coef_"
   ]
  },
  {
   "cell_type": "code",
   "execution_count": 546,
   "id": "9419a7dc",
   "metadata": {},
   "outputs": [
    {
     "data": {
      "text/plain": [
       "array([16.51800645, 21.11435334, 26.13184551, 10.39371625, 20.50593536])"
      ]
     },
     "execution_count": 546,
     "metadata": {},
     "output_type": "execute_result"
    }
   ],
   "source": [
    "text_clf.steps[1][1].coef_.dot(text_clf.steps[0][1].idf_)"
   ]
  },
  {
   "cell_type": "code",
   "execution_count": null,
   "id": "f12618ac",
   "metadata": {},
   "outputs": [],
   "source": []
  }
 ],
 "metadata": {
  "kernelspec": {
   "display_name": "Python 3",
   "language": "python",
   "name": "python3"
  },
  "language_info": {
   "codemirror_mode": {
    "name": "ipython",
    "version": 3
   },
   "file_extension": ".py",
   "mimetype": "text/x-python",
   "name": "python",
   "nbconvert_exporter": "python",
   "pygments_lexer": "ipython3",
   "version": "3.8.5"
  }
 },
 "nbformat": 4,
 "nbformat_minor": 5
}
